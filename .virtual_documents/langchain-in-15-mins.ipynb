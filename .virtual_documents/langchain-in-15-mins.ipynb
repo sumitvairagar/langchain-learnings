


import os
from dotenv import load_dotenv, find_dotenv
_ = load_dotenv(find_dotenv())
openai_api_key = os.environ["OPENAI_API_KEY"]





from langchain_openai import OpenAI


my_creative_llm = OpenAI(temperature=0.9)


question = "What are the 5 best things to do in life?"


print(my_creative_llm(question))





from langchain.prompts import PromptTemplate


my_prompt_template = PromptTemplate(
    input_variables = ["destination"],
    template = "What are the 3 best things to do in {destination}?"
)


user_input = "Barcelona"


print(my_creative_llm(my_prompt_template.format(destination=user_input)))





from langchain.prompts import PromptTemplate
from langchain_openai import OpenAI
from langchain.chains import LLMChain


my_no_creative_llm = OpenAI(temperature=0)


my_prompt_template = PromptTemplate(
    input_variables = ["politician"],
    template = "What are the 3 most remarkable achievements of {politician}?",
)


my_chain = LLMChain(llm=my_no_creative_llm, prompt=my_prompt_template)


print(my_chain.run("Churchill"))








# from langchain.agents import load_tools
# from langchain.agents import initialize_agent
# from langchain.llms import OpenAI
# tools = load_tools(["serpapi", "llm-math"], llm=llm)
# agent = initialize_agent(tools, llm, agent="zero-shot-react-description", verbose=True)
# agent.run("Who is the current leader of Japan? What is the largest prime number that is smaller than their age?")





from langchain import ConversationChain


my_no_creative_llm = OpenAI(temperature=0)


my_conversation = ConversationChain(llm=my_no_creative_llm, verbose=True)


my_conversation("hi there!")


my_conversation("My name is Julio. What is your name?")


my_conversation.predict(input="Do you remember my name?")


print(my_conversation)



